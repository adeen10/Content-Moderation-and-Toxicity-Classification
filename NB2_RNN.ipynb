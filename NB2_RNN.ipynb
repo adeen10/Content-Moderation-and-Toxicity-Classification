{
 "cells": [
  {
   "attachments": {},
   "cell_type": "markdown",
   "metadata": {},
   "source": [
    "# Project 1: Content Moderation and Toxicity Classification"
   ]
  },
  {
   "attachments": {},
   "cell_type": "markdown",
   "metadata": {},
   "source": [
    "## Using a RNN for Content Moderation and Toxicity Classification"
   ]
  },
  {
   "cell_type": "markdown",
   "metadata": {},
   "source": [
    "#### Imports "
   ]
  },
  {
   "cell_type": "code",
   "execution_count": 20,
   "metadata": {},
   "outputs": [
    {
     "name": "stderr",
     "output_type": "stream",
     "text": [
      "[nltk_data] Downloading package stopwords to\n",
      "[nltk_data]     C:\\Users\\Dell\\AppData\\Roaming\\nltk_data...\n",
      "[nltk_data]   Package stopwords is already up-to-date!\n",
      "[nltk_data] Downloading package wordnet to\n",
      "[nltk_data]     C:\\Users\\Dell\\AppData\\Roaming\\nltk_data...\n",
      "[nltk_data]   Package wordnet is already up-to-date!\n"
     ]
    }
   ],
   "source": [
    "import re\n",
    "import numpy as np\n",
    "import pandas as pd\n",
    "import nltk\n",
    "from nltk.corpus import stopwords\n",
    "from sklearn.model_selection import train_test_split\n",
    "import gensim.downloader as api\n",
    "from gensim.models.word2vec import Word2Vec\n",
    "from gpt4all import Embed4All\n",
    "import torch\n",
    "import torch.nn as nn\n",
    "nltk.download('stopwords')\n",
    "nltk.download('wordnet')\n",
    "import numpy as np\n",
    "import pandas as pd\n",
    "import re\n",
    "import string\n",
    "from sklearn.model_selection import train_test_split\n",
    "from sklearn.preprocessing import MultiLabelBinarizer\n",
    "from tensorflow import keras\n",
    "from keras.layers import LSTM,SimpleRNN, Dense, Embedding, Dropout, Bidirectional, Masking\n",
    "from keras.models import Sequential, load_model\n",
    "from keras.preprocessing.text import Tokenizer\n",
    "from keras.preprocessing.sequence import pad_sequences\n",
    "from keras.callbacks import EarlyStopping\n",
    "from nltk.stem import WordNetLemmatizer\n",
    "from gensim.models import KeyedVectors \n",
    "import warnings\n",
    "\n",
    "from sklearn.model_selection import train_test_split\n",
    "from sklearn.feature_extraction.text import TfidfVectorizer\n",
    "from sklearn.preprocessing import MultiLabelBinarizer\n",
    "from sklearn.linear_model import LogisticRegression\n",
    "from sklearn.metrics import classification_report\n",
    "\n",
    "from nltk.stem.wordnet import WordNetLemmatizer\n",
    "import string\n",
    "import matplotlib.pyplot as plt\n",
    "warnings.filterwarnings(\"ignore\")\n",
    "\n",
    "# from tensorflow.keras.wrappers.scikit_learn import KerasClassifier\n",
    "# from scikeras.wrappers import KerasClassifier, KerasRegressor\n",
    "# from sklearn.model_selection import StratifiedKFold ,cross_val_score"
   ]
  },
  {
   "cell_type": "markdown",
   "metadata": {},
   "source": [
    "### Data Loading and Preprocessing"
   ]
  },
  {
   "cell_type": "markdown",
   "metadata": {},
   "source": [
    "#### Loading the Dataset into a pandas dataframe and displaying first few entries."
   ]
  },
  {
   "cell_type": "code",
   "execution_count": 21,
   "metadata": {},
   "outputs": [
    {
     "data": {
      "text/html": [
       "<div>\n",
       "<style scoped>\n",
       "    .dataframe tbody tr th:only-of-type {\n",
       "        vertical-align: middle;\n",
       "    }\n",
       "\n",
       "    .dataframe tbody tr th {\n",
       "        vertical-align: top;\n",
       "    }\n",
       "\n",
       "    .dataframe thead th {\n",
       "        text-align: right;\n",
       "    }\n",
       "</style>\n",
       "<table border=\"1\" class=\"dataframe\">\n",
       "  <thead>\n",
       "    <tr style=\"text-align: right;\">\n",
       "      <th></th>\n",
       "      <th>id</th>\n",
       "      <th>comment_text</th>\n",
       "      <th>toxic</th>\n",
       "      <th>severe_toxic</th>\n",
       "      <th>obscene</th>\n",
       "      <th>threat</th>\n",
       "      <th>insult</th>\n",
       "      <th>identity_hate</th>\n",
       "    </tr>\n",
       "  </thead>\n",
       "  <tbody>\n",
       "    <tr>\n",
       "      <th>0</th>\n",
       "      <td>0000997932d777bf</td>\n",
       "      <td>Explanation\\nWhy the edits made under my usern...</td>\n",
       "      <td>0</td>\n",
       "      <td>0</td>\n",
       "      <td>0</td>\n",
       "      <td>0</td>\n",
       "      <td>0</td>\n",
       "      <td>0</td>\n",
       "    </tr>\n",
       "    <tr>\n",
       "      <th>1</th>\n",
       "      <td>000103f0d9cfb60f</td>\n",
       "      <td>D'aww! He matches this background colour I'm s...</td>\n",
       "      <td>0</td>\n",
       "      <td>0</td>\n",
       "      <td>0</td>\n",
       "      <td>0</td>\n",
       "      <td>0</td>\n",
       "      <td>0</td>\n",
       "    </tr>\n",
       "    <tr>\n",
       "      <th>2</th>\n",
       "      <td>000113f07ec002fd</td>\n",
       "      <td>Hey man, I'm really not trying to edit war. It...</td>\n",
       "      <td>0</td>\n",
       "      <td>0</td>\n",
       "      <td>0</td>\n",
       "      <td>0</td>\n",
       "      <td>0</td>\n",
       "      <td>0</td>\n",
       "    </tr>\n",
       "    <tr>\n",
       "      <th>3</th>\n",
       "      <td>0001b41b1c6bb37e</td>\n",
       "      <td>\"\\nMore\\nI can't make any real suggestions on ...</td>\n",
       "      <td>0</td>\n",
       "      <td>0</td>\n",
       "      <td>0</td>\n",
       "      <td>0</td>\n",
       "      <td>0</td>\n",
       "      <td>0</td>\n",
       "    </tr>\n",
       "    <tr>\n",
       "      <th>4</th>\n",
       "      <td>0001d958c54c6e35</td>\n",
       "      <td>You, sir, are my hero. Any chance you remember...</td>\n",
       "      <td>0</td>\n",
       "      <td>0</td>\n",
       "      <td>0</td>\n",
       "      <td>0</td>\n",
       "      <td>0</td>\n",
       "      <td>0</td>\n",
       "    </tr>\n",
       "  </tbody>\n",
       "</table>\n",
       "</div>"
      ],
      "text/plain": [
       "                 id                                       comment_text  toxic   \n",
       "0  0000997932d777bf  Explanation\\nWhy the edits made under my usern...      0  \\\n",
       "1  000103f0d9cfb60f  D'aww! He matches this background colour I'm s...      0   \n",
       "2  000113f07ec002fd  Hey man, I'm really not trying to edit war. It...      0   \n",
       "3  0001b41b1c6bb37e  \"\\nMore\\nI can't make any real suggestions on ...      0   \n",
       "4  0001d958c54c6e35  You, sir, are my hero. Any chance you remember...      0   \n",
       "\n",
       "   severe_toxic  obscene  threat  insult  identity_hate  \n",
       "0             0        0       0       0              0  \n",
       "1             0        0       0       0              0  \n",
       "2             0        0       0       0              0  \n",
       "3             0        0       0       0              0  \n",
       "4             0        0       0       0              0  "
      ]
     },
     "execution_count": 21,
     "metadata": {},
     "output_type": "execute_result"
    }
   ],
   "source": [
    "# Load your data\n",
    "data_path = './train.csv'\n",
    "df = pd.read_csv(data_path)\n",
    "df.head(5)"
   ]
  },
  {
   "cell_type": "markdown",
   "metadata": {},
   "source": [
    "##### We extract the 'comment_text' column as our input (X) and the toxicity labels as our target (y). This separation allows us to focus on the textual data during preprocessing.\n"
   ]
  },
  {
   "cell_type": "code",
   "execution_count": 22,
   "metadata": {},
   "outputs": [],
   "source": [
    "# Preprocessing\n",
    "X = df['comment_text']\n",
    "y = df.iloc[:, 2:]"
   ]
  },
  {
   "cell_type": "markdown",
   "metadata": {},
   "source": [
    "### Loading Test Dataset and Preprocessing it"
   ]
  },
  {
   "cell_type": "markdown",
   "metadata": {},
   "source": [
    "We filtered the test labels to exclude rows where the 'toxic' column has a value of -1.\n",
    "The value -1 in this context likely indicates missing or irrelevant data."
   ]
  },
  {
   "cell_type": "code",
   "execution_count": 23,
   "metadata": {},
   "outputs": [
    {
     "data": {
      "text/html": [
       "<div>\n",
       "<style scoped>\n",
       "    .dataframe tbody tr th:only-of-type {\n",
       "        vertical-align: middle;\n",
       "    }\n",
       "\n",
       "    .dataframe tbody tr th {\n",
       "        vertical-align: top;\n",
       "    }\n",
       "\n",
       "    .dataframe thead th {\n",
       "        text-align: right;\n",
       "    }\n",
       "</style>\n",
       "<table border=\"1\" class=\"dataframe\">\n",
       "  <thead>\n",
       "    <tr style=\"text-align: right;\">\n",
       "      <th></th>\n",
       "      <th>id</th>\n",
       "      <th>comment_text</th>\n",
       "      <th>id</th>\n",
       "      <th>toxic</th>\n",
       "      <th>severe_toxic</th>\n",
       "      <th>obscene</th>\n",
       "      <th>threat</th>\n",
       "      <th>insult</th>\n",
       "      <th>identity_hate</th>\n",
       "    </tr>\n",
       "  </thead>\n",
       "  <tbody>\n",
       "    <tr>\n",
       "      <th>5</th>\n",
       "      <td>0001ea8717f6de06</td>\n",
       "      <td>Thank you for understanding. I think very high...</td>\n",
       "      <td>0001ea8717f6de06</td>\n",
       "      <td>0</td>\n",
       "      <td>0</td>\n",
       "      <td>0</td>\n",
       "      <td>0</td>\n",
       "      <td>0</td>\n",
       "      <td>0</td>\n",
       "    </tr>\n",
       "    <tr>\n",
       "      <th>7</th>\n",
       "      <td>000247e83dcc1211</td>\n",
       "      <td>:Dear god this site is horrible.</td>\n",
       "      <td>000247e83dcc1211</td>\n",
       "      <td>0</td>\n",
       "      <td>0</td>\n",
       "      <td>0</td>\n",
       "      <td>0</td>\n",
       "      <td>0</td>\n",
       "      <td>0</td>\n",
       "    </tr>\n",
       "    <tr>\n",
       "      <th>11</th>\n",
       "      <td>0002f87b16116a7f</td>\n",
       "      <td>\"::: Somebody will invariably try to add Relig...</td>\n",
       "      <td>0002f87b16116a7f</td>\n",
       "      <td>0</td>\n",
       "      <td>0</td>\n",
       "      <td>0</td>\n",
       "      <td>0</td>\n",
       "      <td>0</td>\n",
       "      <td>0</td>\n",
       "    </tr>\n",
       "    <tr>\n",
       "      <th>13</th>\n",
       "      <td>0003e1cccfd5a40a</td>\n",
       "      <td>\" \\n\\n It says it right there that it IS a typ...</td>\n",
       "      <td>0003e1cccfd5a40a</td>\n",
       "      <td>0</td>\n",
       "      <td>0</td>\n",
       "      <td>0</td>\n",
       "      <td>0</td>\n",
       "      <td>0</td>\n",
       "      <td>0</td>\n",
       "    </tr>\n",
       "    <tr>\n",
       "      <th>14</th>\n",
       "      <td>00059ace3e3e9a53</td>\n",
       "      <td>\" \\n\\n == Before adding a new product to the l...</td>\n",
       "      <td>00059ace3e3e9a53</td>\n",
       "      <td>0</td>\n",
       "      <td>0</td>\n",
       "      <td>0</td>\n",
       "      <td>0</td>\n",
       "      <td>0</td>\n",
       "      <td>0</td>\n",
       "    </tr>\n",
       "  </tbody>\n",
       "</table>\n",
       "</div>"
      ],
      "text/plain": [
       "                  id                                       comment_text   \n",
       "5   0001ea8717f6de06  Thank you for understanding. I think very high...  \\\n",
       "7   000247e83dcc1211                   :Dear god this site is horrible.   \n",
       "11  0002f87b16116a7f  \"::: Somebody will invariably try to add Relig...   \n",
       "13  0003e1cccfd5a40a  \" \\n\\n It says it right there that it IS a typ...   \n",
       "14  00059ace3e3e9a53  \" \\n\\n == Before adding a new product to the l...   \n",
       "\n",
       "                  id  toxic  severe_toxic  obscene  threat  insult   \n",
       "5   0001ea8717f6de06      0             0        0       0       0  \\\n",
       "7   000247e83dcc1211      0             0        0       0       0   \n",
       "11  0002f87b16116a7f      0             0        0       0       0   \n",
       "13  0003e1cccfd5a40a      0             0        0       0       0   \n",
       "14  00059ace3e3e9a53      0             0        0       0       0   \n",
       "\n",
       "    identity_hate  \n",
       "5               0  \n",
       "7               0  \n",
       "11              0  \n",
       "13              0  \n",
       "14              0  "
      ]
     },
     "execution_count": 23,
     "metadata": {},
     "output_type": "execute_result"
    }
   ],
   "source": [
    "# Read test data and test labels\n",
    "fpath_val = './test.csv'\n",
    "fpath_val_labels = './test_labels.csv'\n",
    "\n",
    "test_data = pd.read_csv(fpath_val)\n",
    "test_data_labels = pd.read_csv(fpath_val_labels)\n",
    "\n",
    "# Merge test data and test labels\n",
    "merged_test = pd.concat([test_data, test_data_labels], axis=1)\n",
    "\n",
    "# Drop rows with -1 in any label column\n",
    "merged_test = merged_test[(merged_test != -1).all(axis=1)]\n",
    "\n",
    "merged_test.head(5)"
   ]
  },
  {
   "cell_type": "markdown",
   "metadata": {},
   "source": [
    "## Tokenization Process\n",
    "\n",
    "Tokenization is the process of converting the raw text into a sequence of integers, where each integer corresponds to a unique word in the corpus. We have set the following parameters:\n",
    "\n",
    "- **Maximum Vocabulary Size (max_words):** Limits the vocabulary to the most frequent words. We have chosen 20,000 as it is a balance between capturing information(diverse vocabulary) and managing computational resources.\n",
    "- **Sequence Length (maxlen):** Ensures uniform input size for the RNN. We have chosen 200 because it is suitable for capturing moderate-length comments and strikes a balance and is suitable for our text classification task.\n",
    "\n",
    "#### Increasing `max_words`:\n",
    "\n",
    "- **Positive Impact:**\n",
    "  - May capture a more diverse vocabulary, potentially improving model understanding.\n",
    "\n",
    "- **Consideration:**\n",
    "  - Increased computational requirements.\n",
    "\n",
    "#### Increasing `maxlen`:\n",
    "\n",
    "- **Positive Impact:**\n",
    "  - Allows the model to consider longer sequences, capturing more context.\n",
    "\n",
    "- **Consideration:**\n",
    "  - Longer sequences may require more memory during training.\n",
    "\n",
    "Tokenization was essential for us to convert the variable-length textual data into a format suitable for training our RNN.The chosen parameters, such as max_words and maxlen, are designed to balance model complexity and efficiency.\n",
    "\n",
    "### Tokenizer Class\n",
    "\n",
    "The `Tokenizer` class from Keras is employed to vectorize the text corpus by turning each text into a sequence of integers.\n",
    "\n",
    "#### Methods:\n",
    "\n",
    "1. **fit_on_texts:**\n",
    "   - Fits the tokenizer on the comment text.\n",
    "   - Creates a vocabulary index based on word frequency.\n",
    "\n",
    "2. **texts_to_sequences:**\n",
    "   - Converts each comment text to a sequence of integers based on the tokenizer's vocabulary.\n",
    "\n",
    "3. **pad_sequences:**\n",
    "   - Ensures that all sequences have the same length by padding or truncating them.\n",
    "   - Crucial for efficient batch processing in our RNN.\n"
   ]
  },
  {
   "cell_type": "code",
   "execution_count": 24,
   "metadata": {},
   "outputs": [],
   "source": [
    "# Tokenization\n",
    "max_words = 20000  #Maximum number of words to keep\n",
    "maxlen = 200  #Maximum sequence length\n",
    "tokenizer = Tokenizer(num_words=max_words)\n",
    "tokenizer.fit_on_texts(X)\n",
    "X_seq = tokenizer.texts_to_sequences(X)\n",
    "X_pad = pad_sequences(X_seq, maxlen=maxlen)"
   ]
  },
  {
   "cell_type": "markdown",
   "metadata": {},
   "source": [
    "## Data Splitting: Training and Validation Sets\n",
    "\n",
    "In the machine learning workflow, it's crucial to split our dataset into training and validation sets. This helps assess the model's performance on unseen data and avoid overfitting, where the model performs well on the training data but fails to generalize to new examples.\n",
    "Here's how we've done it:\n",
    "\n",
    "- **Random State (42):** The use of a fixed random state (42) ensures reproducibility. By setting the random state, we obtain the same split every time we run the code. This consistency is valuable for debugging, sharing, and comparing results.\n",
    "\n",
    "- **Test Size (0.2):** We've allocated 20% of the data for validation, leaving 80% for training. Usually, the choice of the test size depends on the dataset and the desired balance between training and validation samples. A common practice is to use 80-20 or 70-30 splits.\n"
   ]
  },
  {
   "cell_type": "code",
   "execution_count": 25,
   "metadata": {},
   "outputs": [],
   "source": [
    "# Splitting data into train and validation sets\n",
    "X_train, X_val, y_train, y_val = train_test_split(X_pad, y, test_size=0.2, random_state=42)"
   ]
  },
  {
   "cell_type": "markdown",
   "metadata": {},
   "source": [
    "### Class Imbalances\n",
    "\n",
    "#### Plotting the distribution of classes in training Data"
   ]
  },
  {
   "cell_type": "code",
   "execution_count": 26,
   "metadata": {},
   "outputs": [
    {
     "data": {
      "image/png": "[encoded data removed]",
      "text/plain": [
       "<Figure size 1000x600 with 1 Axes>"
      ]
     },
     "metadata": {},
     "output_type": "display_data"
    }
   ],
   "source": [
    "# Plotting class distribution\n",
    "plt.figure(figsize=(10, 6))\n",
    "y_train.sum().plot(kind='bar', color='skyblue')\n",
    "plt.title('Class Distribution in Training Data')\n",
    "plt.xlabel('Toxicity Class')\n",
    "plt.ylabel('Count')\n",
    "plt.xticks(rotation=45, ha='right')\n",
    "plt.show()"
   ]
  },
  {
   "attachments": {},
   "cell_type": "markdown",
   "metadata": {},
   "source": [
    "### Interpreting the Class Distribution Graph\n",
    "\n",
    "The bar chart visualizes the distribution of training samples across different classes. The height of each bar represents the quantity of samples for that specific class, where taller bars indicate more samples and shorter bars indicate fewer.\n",
    "\n",
    "#### Class Imbalance\n",
    "\n",
    "The chart tells us about a noticeable class imbalance within the dataset. The \"toxic\" class has the highest number of samples, followed by \"insult\", and \"obscene\". Conversely, the classes \"severe toxic\", \"threat\", and \"identity hate\" exhibit significantly fewer samples.\n",
    "\n",
    "#### Implications for Model Training\n",
    "\n",
    "The observed class imbalance has implications for training a predictive model on this dataset. While the model may perform well in detecting content labeled as \"toxic\", \"insult\", and \"obscene\" due to the abundance of training examples, it may face challenges in accurately predicting classes with fewer instances, such as \"severe toxic\", \"threat\", and \"identity hate\". We need careful consideration and potential mitigation strategies for addressing the imbalanced distribution during the model training process."
   ]
  },
  {
   "cell_type": "markdown",
   "metadata": {},
   "source": [
    "#### Calculating Class Weights for Imbalanced Classes\n",
    "\n",
    "We have employed class weights during model training to give more importance to underrepresented classes, aiding the model in learning from minority samples. \n",
    "\n",
    "In the code cell below, each code line has corresponding comment as to what it is trying to achieve"
   ]
  },
  {
   "cell_type": "code",
   "execution_count": 27,
   "metadata": {},
   "outputs": [],
   "source": [
    "# calculating the sum of each column in y_train.\n",
    "label_counts = y_train.sum(axis=0) \n",
    "#label_counts captures the count of occurrences for each class in the training data. \n",
    "#Each element signifies the count of positive instances for a specific toxicity class.\n",
    "\n",
    "total_samples = len(y_train) #holds the overall number of instances in the training data.\n",
    "\n",
    "#computes class weights using a formula that considers the total number of samples and the count of positive instances for each class.\n",
    "#The objective is to assign higher weights to underrepresented classes, facilitating improved learning from minority samples.\n",
    "#The resulting class weights are stored in the class_weights variable.\n",
    "class_weights = total_samples / (len(label_counts) * label_counts)\n",
    "\n",
    "\n",
    "class_weight_dict = {i: weight for i, weight in enumerate(class_weights)}\n",
    "#dictionary where keys (i) represent the index of each class,\n",
    "# and values (weight) denote the computed class weights."
   ]
  },
  {
   "attachments": {},
   "cell_type": "markdown",
   "metadata": {},
   "source": [
    "## RNN Model Training and Evaluation\n",
    "\n",
    "Now, we delve into the design choices, model architecture, and evaluation metrics employed during the training of our Recurrent Neural Network (RNN).\n",
    "\n",
    "### Model Architecture\n",
    "\n",
    "- **Embedding Layer:** This is the first layer in the model, responsible for converting input text data into dense vectors of a fixed size (32 in this case). It learns a continuous representation of words based on their context in the dataset.\n",
    "\n",
    "- **SimpleRNN Layer:** We employed SimpleRNN layer with 32 units, this layer incorporates recurrent connections, enabling the model to capture sequential patterns in the data. `return_sequences=False` indicates that only the output of the last time step is considered.\n",
    "\n",
    "We experimented with different units and found out 32 was the optimal and balanced choice. Increasing it further led to increase in model complexity, training time, overfitting and thus reduced validation and testing accuracy.\n",
    "Similiarly, increasing layers by introducing an LSTM and dropout layer increased model complexity and led to overfitting and drop in validation and testing accuracy.\n",
    "\n",
    "- **Dense Layer:** The final Dense layer with 6 units (equal to the number of toxicity classes) uses a sigmoid activation function to produce binary outputs for each toxicity class.\n",
    "\n",
    "### Model Compilation\n",
    "\n",
    "- **Loss Function:** We chose Binary crossentropy as the loss function, as it suits such scenarios where multiple labels can be active at the same time. BCE loss assumes independence between classes, meaning the prediction for one class does not influence the prediction for another.\n",
    "\n",
    "- **Optimizer:** We used Adam used as the optimizer. Adam adapts the learning rates of each parameter during training, offering a good balance between efficiency and performance.\n",
    "\n",
    "- **Metrics:** We monitor training progress using loss and accuracy as the evaluation metric.\n",
    "\n",
    "### Model Training\n",
    "\n",
    "- **Epochs:** We trained our model for 2 epochs. We made this choice due to the balance between training time and achieving convergence. Monitoring validation performance helped us avoid overfitting\n",
    "By experimentation, we observed that when we run for more epochs, there is overfitting as training accuracy increases and testing accuracy drops.\n",
    "\n",
    "- **Class Weights:** We utilized `class_weight` parameter, incorporating the previously computed class weights (`class_weight_dict`). This addresses the class imbalance in the training data.\n"
   ]
  },
  {
   "cell_type": "code",
   "execution_count": 28,
   "metadata": {},
   "outputs": [
    {
     "name": "stdout",
     "output_type": "stream",
     "text": [
      "Epoch 1/2\n",
      "3990/3990 [==============================] - 220s 55ms/step - loss: 0.1986 - accuracy: 0.9680 - val_loss: 0.1352 - val_accuracy: 0.9941\n",
      "Epoch 2/2\n",
      "3990/3990 [==============================] - 215s 54ms/step - loss: 0.1591 - accuracy: 0.9735 - val_loss: 0.0755 - val_accuracy: 0.9760\n",
      "3990/3990 [==============================] - 43s 11ms/step - loss: 0.0673 - accuracy: 0.9760\n",
      "Training Accuracy: 97.60%\n"
     ]
    }
   ],
   "source": [
    "# Building the RNN model\n",
    "model_rnn = Sequential()\n",
    "model_rnn.add(Embedding(max_words, 32, input_length=maxlen))\n",
    "model_rnn.add(SimpleRNN(32, return_sequences=False))  # SimpleRNN layer with 32 units\n",
    "model_rnn.add(Dense(6, activation='sigmoid'))\n",
    "\n",
    "model_rnn.compile(loss='binary_crossentropy', optimizer='adam', metrics=['accuracy'])\n",
    "\n",
    "# Training the RNN model\n",
    "model_rnn.fit(X_train, y_train, epochs=2, validation_data=(X_val, y_val),class_weight=class_weight_dict)\n",
    "\n",
    "# Calculating training accuracy\n",
    "train_loss, train_accuracy = model_rnn.evaluate(X_train, y_train)\n",
    "print(f\"Training Accuracy: {train_accuracy * 100:.2f}%\")\n",
    "\n"
   ]
  },
  {
   "attachments": {},
   "cell_type": "markdown",
   "metadata": {},
   "source": [
    "### Model Evaluation\n",
    "\n",
    "- **Metrics:** \n",
    "\n",
    "We used test f1-score as the metric for evaluation. Because in the case of class imbalance, where one class has significantly more instances than the other, accuracy might not be a suitable metric.\n",
    "This is because a model can achieve high accuracy by simply predicting the majority class all the time, although we also made sure that it doesn't drop significantly"
   ]
  },
  {
   "cell_type": "code",
   "execution_count": 29,
   "metadata": {},
   "outputs": [
    {
     "name": "stdout",
     "output_type": "stream",
     "text": [
      "2000/2000 [==============================] - 20s 10ms/step\n",
      "Test Accuracy (Threshold > 0.5): 89.61%\n",
      "Test Metrics:\n",
      "               precision    recall  f1-score   support\n",
      "\n",
      "        toxic       0.67      0.58      0.62      6090\n",
      " severe_toxic       0.22      0.05      0.09       367\n",
      "      obscene       0.61      0.60      0.60      3691\n",
      "       threat       0.05      0.03      0.03       211\n",
      "       insult       0.56      0.50      0.53      3427\n",
      "identity_hate       0.37      0.02      0.04       712\n",
      "\n",
      "    micro avg       0.61      0.51      0.56     14498\n",
      "    macro avg       0.41      0.30      0.32     14498\n",
      " weighted avg       0.59      0.51      0.54     14498\n",
      "  samples avg       0.05      0.04      0.04     14498\n",
      "\n"
     ]
    }
   ],
   "source": [
    "\n",
    "#Evaluating model on test set\n",
    "X_test = merged_test['comment_text']\n",
    "y_test = merged_test.iloc[:, 3:]\n",
    "\n",
    "#Tokenization and Padding\n",
    "X_test_seq = tokenizer.texts_to_sequences(X_test)\n",
    "X_test_pad = pad_sequences(X_test_seq, maxlen=maxlen)\n",
    "\n",
    "#Using our trained model to predict on the test data\n",
    "test_predictions = model_rnn.predict(X_test_pad)\n",
    "\n",
    "threshold = 0.5\n",
    "\n",
    "#Converting the test predictions to binary labels based on the threshold (as taught in class that probability greater than 0.5 is positive else negative)\n",
    "binary_test_predictions = np.where(test_predictions > threshold, 1, 0)\n",
    "\n",
    "#Calculating the accuracy manually using the binary predictions\n",
    "correct_predictions = np.sum(np.all(binary_test_predictions == y_test.values, axis=1))\n",
    "total_samples = len(y_test)\n",
    "test_accuracy = correct_predictions / total_samples\n",
    "\n",
    "#Printing the accuracy\n",
    "print(f\"Test Accuracy (Threshold > {threshold}): {test_accuracy * 100:.2f}%\")\n",
    "\n",
    "# Calculating the F1-score and Recall\n",
    "test_report = classification_report(y_test, binary_test_predictions, target_names=y_test.columns)\n",
    "print(\"Test Metrics:\")\n",
    "print(test_report)"
   ]
  },
  {
   "attachments": {},
   "cell_type": "markdown",
   "metadata": {},
   "source": [
    "## Interpretation of Results\n",
    "\n",
    "## Overall Accuracy\n",
    "\n",
    "The overall accuracy of the model on the test set is 89.61% which indicates that, on average, our model correctly predicts the toxicity labels for 89.61% of instances.\n",
    "\n",
    "## Interpretation and Analysis\n",
    "\n",
    "### Toxic Class\n",
    "\n",
    "- **Precision:** 67%\n",
    "- **Recall:** 58%\n",
    "\n",
    "The model performs reasonably well in identifying toxic comments, but there is room for improvement in recall.\n",
    "\n",
    "### Severe Toxic Class\n",
    "\n",
    "- **Precision:** 22%\n",
    "- **Recall:** 5%\n",
    "\n",
    "The model struggles to correctly identify severe_toxic comments, with both precision and recall being low.\n",
    "\n",
    "### Obscene Class\n",
    "\n",
    "- **Precision:** 61%\n",
    "- **Recall:** 60%\n",
    "\n",
    "The model has good precision for obscene comments but misses some instances.\n",
    "\n",
    "### Threat Class\n",
    "\n",
    "- **Precision:** 5%\n",
    "- **Recall:** 3%\n",
    "\n",
    "The model performs poorly in both identifying actual threats and avoiding false positives.\n",
    "\n",
    "### Insult Class\n",
    "\n",
    "- **Precision:** 56%\n",
    "- **Recall:** 50%\n",
    "\n",
    "Similar to toxic, the model has moderate precision and recall for insults.\n",
    "\n",
    "### Identity Hate Class\n",
    "\n",
    "- **Precision:** 37%\n",
    "- **Recall:** 2%\n",
    "\n",
    "The model struggles to correctly identify identity_hate comments, with both precision and recall being low.\n",
    "\n",
    "### Key Observations\n",
    "\n",
    "### Imbalanced Classes\n",
    "\n",
    "Some classes like threat and identity_hate and severe toxic, have low support, indicating imbalances. Class imbalance is impacting our model's ability to learn patterns for minority classes, although we have made adjustments to it by assigning weights to classess\n",
    "Our model faces significant challenges in identifying instances related to severe toxicity, threat, and identity hate due to class imbalances. The dataset should have more training instances of these, and there should be less class imbalance to improve results.\n"
   ]
  },
  {
   "cell_type": "markdown",
   "metadata": {},
   "source": [
    "### Testing our model on our example comments\n",
    "\n",
    "We formulated some test comments of our own to check how good the predictions were :)"
   ]
  },
  {
   "cell_type": "code",
   "execution_count": 30,
   "metadata": {},
   "outputs": [
    {
     "name": "stdout",
     "output_type": "stream",
     "text": [
      "Are you insane!\n",
      "1/1 [==============================] - 0s 40ms/step\n",
      "toxic severe_toxic obscene threat insult\tidentity_hate\n",
      "[[0 0 0 0 0 0]]\n",
      "I will kill you nigga\n",
      "1/1 [==============================] - 0s 36ms/step\n",
      "toxic severe_toxic obscene threat insult\tidentity_hate\n",
      "[[1 0 1 0 1 1]]\n"
     ]
    }
   ],
   "source": [
    "custom_sentence_list = [\"Are you insane!\",\"I will kill you nigga\"]\n",
    "\n",
    "for custom_sentence in custom_sentence_list:\n",
    "    print(custom_sentence)\n",
    "    # Preprocess the custom sentence using the same tokenizer\n",
    "    custom_seq = tokenizer.texts_to_sequences([custom_sentence])\n",
    "    custom_seq = pad_sequences(custom_seq, maxlen=200)\n",
    "\n",
    "    # Use the trained model to predict on the custom sentence\n",
    "    predictions = model_rnn.predict(custom_seq)\n",
    "\n",
    "    # Print the predicted probabilities for each class\n",
    "    # print(predictions)\n",
    "\n",
    "    threshold = 0.5\n",
    "    binary_predictions = np.where(predictions > threshold, 1, 0)\n",
    "    print(\"toxic severe_toxic obscene threat insult\tidentity_hate\")\n",
    "    print(binary_predictions)"
   ]
  }
 ],
 "metadata": {
  "kernelspec": {
   "display_name": "Python 3",
   "language": "python",
   "name": "python3"
  },
  "language_info": {
   "codemirror_mode": {
    "name": "ipython",
    "version": 3
   },
   "file_extension": ".py",
   "mimetype": "text/x-python",
   "name": "python",
   "nbconvert_exporter": "python",
   "pygments_lexer": "ipython3",
   "version": "3.10.11"
  },
  "orig_nbformat": 4
 },
 "nbformat": 4,
 "nbformat_minor": 2
}
