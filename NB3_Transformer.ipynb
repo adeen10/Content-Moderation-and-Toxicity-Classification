{
  "cells": [
    {
      "cell_type": "markdown",
      "metadata": {
        "id": "Pb4_TGpDoGeV"
      },
      "source": [
        "# Project 1: Content Moderation and Toxicity Classification"
      ]
    },
    {
      "cell_type": "markdown",
      "metadata": {
        "id": "K4JI5CrRoGeX"
      },
      "source": [
        "## Pretrained Encoder-Transformers"
      ]
    },
    {
      "attachments": {},
      "cell_type": "markdown",
      "metadata": {},
      "source": [
        "#### Imports"
      ]
    },
    {
      "cell_type": "code",
      "execution_count": 8,
      "metadata": {
        "id": "F8qxqGaRBFF8"
      },
      "outputs": [],
      "source": [
        "import numpy as np\n",
        "import pandas as pd\n",
        "#data visualisation libraries\n",
        "import matplotlib.pyplot as plt\n",
        "import seaborn as sns\n",
        "from pylab import rcParams\n",
        "import torch\n",
        "from torch.utils.data import DataLoader, TensorDataset\n",
        "from transformers import BertTokenizer, BertForSequenceClassification, AdamW\n",
        "from sklearn.model_selection import train_test_split\n",
        "from sklearn.metrics import accuracy_score, precision_score, recall_score,f1_score\n",
        "from pathlib import Path\n",
        "import zipfile"
      ]
    },
    {
      "cell_type": "markdown",
      "metadata": {
        "id": "xbVnuBryoGeZ"
      },
      "source": [
        "## Data Preprocessing\n",
        "### Data Source and Loading\n",
        "In this phase of the project, we focus on preparing our data for analysis and model training. Data preprocessing is a critical step in any machine learning pipeline, as it ensures that our data is in the right format and is accessible for processing by our models."
      ]
    },
    {
      "cell_type": "code",
      "execution_count": 9,
      "metadata": {
        "colab": {
          "base_uri": "https://localhost:8080/"
        },
        "id": "BdlFB8xqy31C",
        "outputId": "4e96c4d3-5484-4b84-fab1-7f90ed4c7a61"
      },
      "outputs": [
        {
          "name": "stdout",
          "output_type": "stream",
          "text": [
            "Drive already mounted at /content/drive; to attempt to forcibly remount, call drive.mount(\"/content/drive\", force_remount=True).\n",
            "Directory already exists!\n"
          ]
        }
      ],
      "source": [
        "# Importing the warnings module to handle warnings\n",
        "import warnings\n",
        "warnings.filterwarnings('ignore')\n",
        "\n",
        "# Mount the drive and load the dataset\n",
        "from google.colab import drive\n",
        "drive.mount('/content/drive')\n",
        "\n",
        "# Defining the path to the dataset stored in Google Drive.\n",
        "data_path = Path('/content/drive/MyDrive/Colab Notebooks/Sentiment Data/data.zip')\n",
        "\n",
        "# Defining the folder path where the extracted data will be stored.\n",
        "folder_path = Path('my_data/')\n",
        "\n",
        "# Checking if the folder already exists\n",
        "if folder_path.is_dir():\n",
        "  print(\"Directory already exists!\")\n",
        "else:\n",
        "  # If the directory does not exist, create it.\n",
        "  print(\"Making Directory\")\n",
        "  folder_path.mkdir(parents = True, exist_ok = True)\n",
        "\n",
        "# Unzipping the data\n",
        "  with zipfile.ZipFile(data_path, \"r\") as my_zip:\n",
        "    print(\"Unzipping...\")\n",
        "\n",
        "    # Extracting the data\n",
        "    my_zip.extractall(folder_path)\n",
        "    print(\"All Done\")"
      ]
    },
    {
      "cell_type": "markdown",
      "metadata": {
        "id": "WP-YaaHpoGeb"
      },
      "source": [
        "## Visualization of Data Distribution\n",
        "To better understand the dataset, we explore the distribution of labels within our comments. This helps us identify imbalances and provides insights that can guide our preprocessing and model training strategies.\n",
        "\n",
        "The following visualization shows the number of occurrences for each type of label in our training data:\n",
        "\n",
        "### Code Description:\n",
        "- We load our dataset from a CSV file into a pandas DataFrame.\n",
        "- We then focus on the distribution of different labels which might represent various categories of toxicity such as 'toxic', 'severe_toxic', 'obscene', etc.\n",
        "- By calculating the sum of each label and sorting them, we prepare our data for visualization.\n",
        "- Using `matplotlib` and `seaborn`, we create a horizontal bar plot that clearly shows the frequency of each label.\n",
        "- The plot is styled with a 'viridis' color palette for visual appeal and clarity.\n",
        "- Finally, we display the plot with appropriate labels and a title.\n",
        "\n",
        "The head of the dataset, showing a few sample entries, is printed for a quick glimpse into the data structure:"
      ]
    },
    {
      "cell_type": "code",
      "execution_count": 10,
      "metadata": {
        "colab": {
          "base_uri": "https://localhost:8080/",
          "height": 713
        },
        "id": "M5rfLHnosaGh",
        "outputId": "5d59e586-5da8-4401-fa4b-60439a8494f9"
      },
      "outputs": [
        {
          "name": "stdout",
          "output_type": "stream",
          "text": [
            "                 id                                       comment_text  toxic  \\\n",
            "0  0000997932d777bf  Explanation\\nWhy the edits made under my usern...      0   \n",
            "1  000103f0d9cfb60f  D'aww! He matches this background colour I'm s...      0   \n",
            "2  000113f07ec002fd  Hey man, I'm really not trying to edit war. It...      0   \n",
            "3  0001b41b1c6bb37e  \"\\nMore\\nI can't make any real suggestions on ...      0   \n",
            "4  0001d958c54c6e35  You, sir, are my hero. Any chance you remember...      0   \n",
            "\n",
            "   severe_toxic  obscene  threat  insult  identity_hate  \n",
            "0             0        0       0       0              0  \n",
            "1             0        0       0       0              0  \n",
            "2             0        0       0       0              0  \n",
            "3             0        0       0       0              0  \n",
            "4             0        0       0       0              0  \n"
          ]
        },
        {
          "data": {
            "image/png": "[encoded data removed]",
            "text/plain": [
              "<Figure size 700x500 with 1 Axes>"
            ]
          },
          "metadata": {},
          "output_type": "display_data"
        }
      ],
      "source": [
        "data = pd.read_csv(\"/content/my_data/train.csv\")\n",
        "print(data.head())\n",
        "\n",
        "# Visualizing the class distribution of the 'label' column\n",
        "column_labels = data.columns.tolist()[2:]\n",
        "label_counts = data[column_labels].sum().sort_values()\n",
        "\n",
        "\n",
        "# Create a black background for the plot\n",
        "plt.figure(figsize=(7, 5))\n",
        "\n",
        "# Create a horizontal bar plot using Seaborn\n",
        "ax = sns.barplot(x=label_counts.values,\n",
        "                 y=label_counts.index, palette='viridis')\n",
        "\n",
        "\n",
        "# Add labels and title to the plot\n",
        "plt.xlabel('Number of Occurrences')\n",
        "plt.ylabel('Labels')\n",
        "plt.title('Distribution of Label Occurrences')\n",
        "\n",
        "# Show the plot\n",
        "plt.show()"
      ]
    },
    {
      "cell_type": "markdown",
      "metadata": {
        "id": "cfXZ40PxoGeb"
      },
      "source": [
        "# Data Cleaning and Sampling\n",
        "\n",
        "This step refines the dataset for training, ensuring the model learns from balanced and relevant data to improve its accuracy and reliability.\n",
        "\n",
        "## Steps Undertaken:\n",
        "\n",
        "1. **Label Summarization**: We compute the sum of instances for each label within our dataset. This gives us an overview of the distribution of different classifications such as 'toxic', 'severe_toxic', etc.\n",
        "\n",
        "2. **Separation of Data**: We categorize our comments into two groups:\n",
        "   - **Toxic Comments**: Any comment tagged with at least one 'toxic' label.\n",
        "   - **Clean Comments**: Comments without any 'toxic' labels.\n",
        "\n",
        "3. **Sampling Clean Comments**: To balance our dataset, we randomly sample a subset of the clean comments. This step is crucial to prevent model bias towards the more frequent class.\n",
        "\n",
        "4. **Merging Datasets**: We combine the toxic comments with the sampled clean comments to create a unified dataset ready for model training.\n",
        "\n",
        "5. **Shuffling**: The combined dataset is then shuffled to ensure that the order of data does not introduce any bias during the training process.\n",
        "\n",
        "6. **Splitting Data**: Finally, we extract the comment texts and labels from our dataset. We also create a validation set by splitting the data, which is used to evaluate the model's performance during training.\n",
        "\n",
        "Through these steps, we ensure that our dataset is clean, balanced, and randomized, setting the stage for effective model training. This meticulous process aids in developing robust models that generalize well to unseen data."
      ]
    },
    {
      "cell_type": "code",
      "execution_count": 11,
      "metadata": {
        "id": "RNE8Un5ry31G"
      },
      "outputs": [],
      "source": [
        "# Summing up the values of each column specified in column_labels and then sorting them.\n",
        "data[column_labels].sum().sort_values()\n",
        "\n",
        "# the comment is tagged with at least one toxic label.\n",
        "train_toxic = data[data[column_labels].sum(axis=1) > 0]\n",
        "# has no toxic labels and is clean.\n",
        "train_clean = data[data[column_labels].sum(axis=1) == 0]\n",
        "\n",
        "# Randomly sample 15,000 clean comments\n",
        "train_clean_sampled = train_clean.sample(n=16225, random_state=42)\n",
        "\n",
        "# Combine the toxic and sampled clean comments\n",
        "dataframe = pd.concat([train_toxic, train_clean_sampled], axis=0)\n",
        "\n",
        "# Shuffle the data to avoid any order bias during training\n",
        "dataframe = dataframe.sample(frac=1, random_state=42)\n",
        "\n",
        "# Extracting the 'comment_text' column as training texts\n",
        "train_texts = dataframe['comment_text']\n",
        "train_labels = dataframe.iloc[:,2:]\n",
        "\n",
        "# validation set\n",
        "train_texts, val_texts, train_labels, val_labels = train_test_split(\n",
        "    train_texts, train_labels, test_size=0.5, random_state=42)\n"
      ]
    },
    {
      "cell_type": "markdown",
      "metadata": {
        "id": "V0m7e0QNoGec"
      },
      "source": [
        "# Tokenization and Encoding\n",
        "## BERT Tokenizer\n",
        "When preparing text data for Natural Language Processing (NLP) models, especially ones based on the Transformer architecture like BERT, the process begins with tokenization and encoding.\n",
        "\n",
        "Tokenization splits the raw text into tokens (words or subwords), and encoding converts these tokens into numerical IDs that the model can understand. Special tokens like `[CLS]` for the start of the sequence and `[SEP]` for the end are added. Texts are also padded to a uniform length (`max_length`) or truncated if they're too long.\n",
        "\n",
        "An attention mask is generated to tell the model which tokens should be paid attention to and which are padding. This preprocessed data is then fed into the BERT model for training or inference.\n",
        "\n",
        "The following infographic illustrates this tokenization and encoding journey:\n",
        "\n",
        "### Implementation in Code:\n",
        "In our code:\n",
        "- We define a `tokenize_and_encode` function to handle the conversion of text to tensors that BERT can process.\n",
        "- We initialize a BERT tokenizer and model, ensuring all text is lowercased (`do_lower_case=True`) for consistency.\n",
        "- The model is transferred to the appropriate device (GPU for faster processing, if available).\n",
        "- Finally, we output the device being used to confirm where the computations will occur.\n",
        "\n",
        "Through this preparation, our text data is ready for the model to learn from or to make predictions with.\n"
      ]
    },
    {
      "cell_type": "code",
      "execution_count": 12,
      "metadata": {
        "colab": {
          "base_uri": "https://localhost:8080/"
        },
        "id": "-N6Temcey31H",
        "outputId": "e2c8b29d-3dc6-46fc-e3e8-3c53ce242c14"
      },
      "outputs": [
        {
          "name": "stderr",
          "output_type": "stream",
          "text": [
            "Some weights of BertForSequenceClassification were not initialized from the model checkpoint at bert-base-uncased and are newly initialized: ['classifier.bias', 'classifier.weight']\n",
            "You should probably TRAIN this model on a down-stream task to be able to use it for predictions and inference.\n"
          ]
        },
        {
          "name": "stdout",
          "output_type": "stream",
          "text": [
            "cuda\n"
          ]
        }
      ],
      "source": [
        "def tokenize_and_encode(tokenizer, comments, labels, max_length=128):\n",
        "    # Initialize empty lists to store tokenized inputs and attention masks\n",
        "    input_ids = []\n",
        "    attention_masks = []\n",
        "\n",
        "    # Iterate through each comment in the 'comments' list\n",
        "    for comment in comments:\n",
        "\n",
        "        # Tokenize and encode the comment using the BERT tokenizer\n",
        "        encoded_dict = tokenizer.encode_plus(\n",
        "            comment,\n",
        "\n",
        "            # Add special tokens like [CLS] and [SEP]\n",
        "            add_special_tokens=True,\n",
        "\n",
        "            # Truncate or pad the comment to 'max_length'\n",
        "            max_length=max_length,\n",
        "\n",
        "            # Pad the comment to 'max_length' with zeros if needed\n",
        "            pad_to_max_length=True,\n",
        "\n",
        "            # Return attention mask to mask padded tokens\n",
        "            return_attention_mask=True,\n",
        "\n",
        "            # Return PyTorch tensors\n",
        "            return_tensors='pt'\n",
        "        )\n",
        "\n",
        "        # Append the tokenized input and attention mask to their respective lists\n",
        "        input_ids.append(encoded_dict['input_ids'])\n",
        "        attention_masks.append(encoded_dict['attention_mask'])\n",
        "\n",
        "    # Concatenate the tokenized inputs and attention masks into tensors\n",
        "    input_ids = torch.cat(input_ids, dim=0)\n",
        "    attention_masks = torch.cat(attention_masks, dim=0)\n",
        "\n",
        "    # Convert the labels to a PyTorch tensor with the data type float32\n",
        "    labels = torch.tensor(labels, dtype=torch.float32)\n",
        "\n",
        "    # Return the tokenized inputs, attention masks, and labels as PyTorch tensors\n",
        "    return input_ids, attention_masks, labels\n",
        "\n",
        "\n",
        "# Token Initialization\n",
        "tokenizer = BertTokenizer.from_pretrained('bert-base-uncased',\n",
        "                                          do_lower_case=True)\n",
        "\n",
        "model = BertForSequenceClassification.from_pretrained('bert-base-uncased',\n",
        "                                                      num_labels=6)\n",
        "\n",
        "device = torch.device(\n",
        "    'cuda') if torch.cuda.is_available() else torch.device('cpu')\n",
        "model = model.to(device)\n",
        "print(device)"
      ]
    },
    {
      "cell_type": "markdown",
      "metadata": {
        "id": "FCN9ineOoGee"
      },
      "source": [
        "# Text Preparation for BERT\n",
        "\n",
        "In Natural Language Processing (NLP), text data must be converted into a numerical format that a model can interpret. **BERT**, a transformer-based machine learning model for NLP tasks, requires a specific format for input data which includes tokenization and encoding.\n",
        "\n",
        "## Tokenization and Encoding Explained\n",
        "\n",
        "The process begins with **tokenization**, where text is split into smaller pieces, or \"tokens.\" Each token corresponds to a word or subword in the text. BERT uses a WordPiece algorithm that allows it to handle a wide range of vocabulary without storing an enormous word-index.\n",
        "\n",
        "**Encoding** involves translating each token into a unique integer ID from BERT's vocabulary. This step is crucial as it converts text into data that can be processed by the model's neural network layers.\n",
        "\n",
        "Additionally, since BERT processes data in batches, all input sequences must be of the same length. We achieve this through **padding** (adding zeros to shorter sequences) and **truncation** (cutting off tokens from longer sequences).\n",
        "\n",
        "We also generate **attention masks** to let the model differentiate between content and padding. This mask indicates which tokens are words and should be focused on versus which ones are padding and should be ignored.\n",
        "\n",
        "## Implementing in Code\n",
        "\n",
        "Here's how we implement these steps in our code:\n",
        "\n",
        "- We call `tokenize_and_encode` to tokenize the comments and convert them to BERT's expected input format.\n",
        "- We use `TensorDataset` to wrap our input IDs, attention masks, and labels into a dataset that's easy to iterate over during training.\n",
        "- `DataLoader` objects are then created to handle shuffling and batching of our dataset, ensuring that our model can efficiently learn from the data.\n",
        "\n",
        "The outcome of this preprocessing is a set of tensors that represent our text data, ready for training or evaluating our BERT model.\n"
      ]
    },
    {
      "cell_type": "code",
      "execution_count": 13,
      "metadata": {
        "colab": {
          "base_uri": "https://localhost:8080/"
        },
        "id": "xKmLTn0Xy31I",
        "outputId": "88790314-d7d6-4614-de2c-d8ca17618657"
      },
      "outputs": [
        {
          "name": "stderr",
          "output_type": "stream",
          "text": [
            "Truncation was not explicitly activated but `max_length` is provided a specific value, please use `truncation=True` to explicitly truncate examples to max length. Defaulting to 'longest_first' truncation strategy. If you encode pairs of sequences (GLUE-style) with the tokenizer you can select this strategy more precisely by providing a specific strategy to `truncation`.\n"
          ]
        },
        {
          "name": "stdout",
          "output_type": "stream",
          "text": [
            "Training Comments : (16225,)\n",
            "Input Ids         : torch.Size([16225, 128])\n",
            "Attention Mask    : torch.Size([16225, 128])\n",
            "Labels            : torch.Size([16225, 6])\n"
          ]
        }
      ],
      "source": [
        "# Tokenize and encode the training texts and labels.\n",
        "# This function converts the text data into a format that is suitable for input to BERT model.\n",
        "# It includes converting texts into tokens, mapping these tokens to their index in the tokenizer vocabulary,\n",
        "# and creating attention masks to indicate which tokens should be attended to by the model.\n",
        "input_ids, attention_masks, labels = tokenize_and_encode(\n",
        "    tokenizer,\n",
        "    train_texts,\n",
        "    train_labels.values\n",
        ")\n",
        "\n",
        "# Tokenize and Encode the comments and labels for the validation set\n",
        "val_input_ids, val_attention_masks, val_labels = tokenize_and_encode(\n",
        "    tokenizer,\n",
        "    val_texts,\n",
        "    val_labels.values\n",
        ")\n",
        "\n",
        "# Output the shape of the training data\n",
        "print('Training Comments :',train_texts.shape)\n",
        "print('Input Ids         :',input_ids.shape)\n",
        "print('Attention Mask    :',attention_masks.shape)\n",
        "print('Labels            :',labels.shape)\n",
        "\n",
        "# Creating DataLoader for the balanced dataset\n",
        "batch_size = 32\n",
        "train_dataset = TensorDataset(input_ids, attention_masks, labels)\n",
        "train_loader = DataLoader(train_dataset, batch_size=batch_size, shuffle=True)\n",
        "\n",
        "# validation set\n",
        "# Creating a DataLoader for the validation set.\n",
        "val_dataset = TensorDataset(val_input_ids, val_attention_masks, val_labels)\n",
        "val_loader = DataLoader(val_dataset, batch_size=batch_size, shuffle=False)"
      ]
    },
    {
      "cell_type": "markdown",
      "metadata": {
        "id": "eLVoNYo6oGef"
      },
      "source": [
        "# Training Preparation\n",
        "## Dataset and DataLoader\n",
        "\n",
        "Before diving into the actual model training, we must establish a solid foundation by initializing our training environment and data handling mechanisms.\n",
        "\n",
        "### Optimizer Initialization\n",
        "We choose the AdamW optimizer for its improved weight decay handling over the standard Adam optimizer. Weight decay is a regularization technique to prevent overfitting by penalizing large weights. The learning rate is set to `2e-5`, a common choice for fine-tuning BERT models.\n",
        "\n",
        "### Training Function\n",
        "The `train_model` function is the core of our training loop. Here's what happens inside it:\n",
        "\n",
        "- **Epochs**: We iterate over the number of epochs specified.\n",
        "- **Loss Initialization**: We start with a total loss of zero for each epoch, suming the loss as we process batches.\n",
        "- **Batch Processing**: For each batch in our DataLoader, we:\n",
        "  - Move our data (`input_ids`, `attention_masks`, and `labels`) to the active device (GPU for acceleration ).\n",
        "  - Clear previous gradients, perform a forward pass to get predictions and loss, and then a backward pass to calculate gradients.\n",
        "  - Update model parameters with `optimizer.step()`.\n",
        "- **Validation**: After training on all batches, we switch the model to evaluation mode and calculate the validation loss without updating model parameters. This gives us a measure of how well our model is generalizing.\n",
        "\n",
        "### Running the Training\n",
        "With the `train_model` function defined, we call it with our model, DataLoader, optimizer, device, and the number of epochs. The training process involves both learning from the training data and periodically validating against the validation data to monitor the model's performance.\n",
        "\n",
        "By the end of these steps, our model will have learned to predict from our data, and we will have a clear picture of its training and validation loss, guiding us towards fine-tuning or further improvements."
      ]
    },
    {
      "cell_type": "code",
      "execution_count": 14,
      "metadata": {
        "colab": {
          "base_uri": "https://localhost:8080/"
        },
        "id": "Uobh9DNmy31I",
        "outputId": "6f54d6fc-a956-43f4-8214-4c1595a8c2f8"
      },
      "outputs": [
        {
          "name": "stdout",
          "output_type": "stream",
          "text": [
            "508\n",
            "0\n",
            "100\n",
            "200\n",
            "300\n",
            "400\n",
            "500\n",
            "508\n",
            "0\n",
            "100\n",
            "200\n",
            "300\n",
            "400\n",
            "500\n",
            "Epoch 1, Training Loss: 0.2169283077003449,Validation loss:0.16485132914087844\n",
            "508\n",
            "0\n",
            "100\n",
            "200\n",
            "300\n",
            "400\n",
            "500\n",
            "508\n",
            "0\n",
            "100\n",
            "200\n",
            "300\n",
            "400\n",
            "500\n",
            "Epoch 2, Training Loss: 0.1431237730952933,Validation loss:0.15244671082817107\n",
            "508\n",
            "0\n",
            "100\n",
            "200\n",
            "300\n",
            "400\n",
            "500\n",
            "508\n",
            "0\n",
            "100\n",
            "200\n",
            "300\n",
            "400\n",
            "500\n",
            "Epoch 3, Training Loss: 0.11806991795356583,Validation loss:0.16281816167674415\n"
          ]
        }
      ],
      "source": [
        "# Initializing the optimizer.\n",
        "# AdamW is a variant of the Adam optimizer with fixed weight decay.\n",
        "optimizer = AdamW(model.parameters(), lr=2e-5)\n",
        "\n",
        "\n",
        "# function to train the model.\n",
        "def train_model(model, train_loader, optimizer, device, num_epochs):\n",
        "    # Loop through the specified number of epochs\n",
        "    for epoch in range(num_epochs):\n",
        "        # Set the model to training mode\n",
        "        model.train()\n",
        "        # Initialize total loss for the current epoch\n",
        "        total_loss = 0\n",
        "        i=0\n",
        "\n",
        "        # Loop through the batches in the training data\n",
        "        print(len(train_loader))\n",
        "        for batch in train_loader:\n",
        "            # using GPU or CPU\n",
        "            input_ids, attention_mask, labels = [t.to(device) for t in batch]\n",
        "\n",
        "            # Clearing out the gradients of the optimizer. Gradients need to be cleared to prevent double-counting in subsequent backpropagation.\n",
        "            optimizer.zero_grad()\n",
        "\n",
        "# Forward pass: Computing the predicted outputs by passing inputs to the model.\n",
        "            outputs = model(\n",
        "                input_ids, attention_mask=attention_mask, labels=labels)\n",
        "            # Extracting the loss from the model's output.\n",
        "            loss = outputs.loss\n",
        "            # adding loss over all batches to calculate the total loss for the epoch.\n",
        "            total_loss += loss.item()\n",
        "            # Backward pass\n",
        "            loss.backward()\n",
        "            # Updating the model parameters based on the current gradient.\n",
        "            optimizer.step()\n",
        "            if(i%100 == 0):\n",
        "              print(i)\n",
        "            i+=1\n",
        "\n",
        "        model.eval()  # Set the model to evaluation mode\n",
        "        val_loss = 0\n",
        "\n",
        "        # Disable gradient computation during validation\n",
        "        print(len(val_loader))\n",
        "        j = 0\n",
        "        with torch.no_grad():\n",
        "            for batch in val_loader:\n",
        "                input_ids, attention_mask, labels = [\n",
        "                    t.to(device) for t in batch]\n",
        "\n",
        "                # Forward pass with the validation data.\n",
        "                outputs = model(\n",
        "                    input_ids, attention_mask=attention_mask, labels=labels)\n",
        "\n",
        "                # getting the loss from the outputs and summing them\n",
        "                loss = outputs.loss\n",
        "                val_loss += loss.item()\n",
        "                if(j%100 == 0):\n",
        "                  print(j)\n",
        "                j+=1\n",
        "        # Print the average loss for the current epoch\n",
        "        print(\n",
        "            f'Epoch {epoch+1}, Training Loss: {total_loss/len(train_loader)},Validation loss:{val_loss/len(val_loader)}')\n",
        "\n",
        "\n",
        "# Call the function to train the model\n",
        "train_model(model, train_loader, optimizer, device, num_epochs=3)"
      ]
    },
    {
      "cell_type": "markdown",
      "metadata": {
        "id": "XNbeQO9goGeh"
      },
      "source": [
        "# Model Evaluation\n",
        "## Evaluation Metrics\n",
        "\n",
        "After training our model, it's crucial to assess its performance using a set of evaluation metrics. This step helps us understand the effectiveness of our model in making predictions.\n",
        "\n",
        "### The Evaluation Function\n",
        "We define the `evaluate_model` function to systematically evaluate our trained model on the test data. Here's what the function does:\n",
        "\n",
        "- It switches the model to evaluation mode, which is essential for accurate performance measurement.\n",
        "- We loop through the test data, computing predictions for each batch.\n",
        "- The model's output logits are passed through a sigmoid function to obtain probabilities, which are then converted to binary predictions based on a 0.5 threshold.\n",
        "- We concatenate all the predictions and true labels to calculate global metrics such as accuracy, precision, and recall.\n",
        "- These metrics give us a quantitative measure of our model's performance:\n",
        "  - **Accuracy**: The proportion of correct predictions over the total number of cases evaluated.\n",
        "  - **Precision**: The ratio of true positive predictions to the total positive predictions.\n",
        "  - **Recall**: The ability of the model to find all the relevant cases within the dataset.\n",
        "\n",
        "By running `evaluate_model`, we receive immediate feedback on our model's performance, which is printed out for further analysis and reporting."
      ]
    },
    {
      "cell_type": "code",
      "execution_count": 15,
      "metadata": {
        "id": "DCmpXAyEy31J"
      },
      "outputs": [],
      "source": [
        "def evaluate_model(model, test_loader, device):\n",
        "    model.eval()  # Set the model to evaluation mode\n",
        "\n",
        "    true_labels = []\n",
        "    predicted_probs = []\n",
        "\n",
        "    # Disabling gradient calculations for efficiency. Gradients are not needed during evaluation.\n",
        "    with torch.no_grad():\n",
        "        # Loop through each batch in the test data loader.\n",
        "        for batch in test_loader:\n",
        "            # GPU or CPU\n",
        "            input_ids, attention_mask, labels = [t.to(device) for t in batch]\n",
        "\n",
        "            # Forward pass: Compute the predicted outputs by passing the batch through the model.\n",
        "            outputs = model(input_ids, attention_mask=attention_mask)\n",
        "\n",
        "            # Use sigmoid for multilabel classification (probabilities)\n",
        "            predicted_probs_batch = torch.sigmoid(outputs.logits)\n",
        "\n",
        "            # from GPU to CPU\n",
        "            predicted_probs.append(predicted_probs_batch.cpu().numpy())\n",
        "\n",
        "            true_labels_batch = labels.cpu().numpy()\n",
        "            true_labels.append(true_labels_batch)\n",
        "\n",
        "    # Combine predictions and labels for evaluation\n",
        "    true_labels = np.concatenate(true_labels, axis=0)\n",
        "    predicted_probs = np.concatenate(predicted_probs, axis=0)\n",
        "\n",
        "     # Convert probabilities to binary predictions using a threshold of 0.5.\n",
        "    predicted_labels = (predicted_probs > 0.5).astype(\n",
        "        int)\n",
        "\n",
        "    # Calculate evaluation metrics\n",
        "    accuracy = accuracy_score(true_labels, predicted_labels)\n",
        "    precision = precision_score(true_labels, predicted_labels, average='micro')\n",
        "    recall = recall_score(true_labels, predicted_labels, average='micro')\n",
        "    f1 = f1_score(true_labels, predicted_labels, average='micro')\n",
        "\n",
        "    # Print the evaluation metrics\n",
        "    print(f'Accuracy: {accuracy:.4f}')\n",
        "    print(f'Precision: {precision:.4f}')\n",
        "    print(f'Recall: {recall:.4f}')\n",
        "    print(f'F1 Score: {f1:.4f}')\n",
        "\n",
        "\n",
        "# Call the function to evaluate the model on the test data\n",
        "# evaluate_model(model, test_loader, device)"
      ]
    },
    {
      "cell_type": "markdown",
      "metadata": {
        "id": "u7B9Bqm3oGeh"
      },
      "source": [
        "# Saving and Loading Model\n",
        "## Saving Process\n",
        "\n",
        "Once we have trained our model to satisfaction, the next crucial step is to save our model and tokenizer. This allows us to reload the model later to make predictions without having to retrain it from scratch, which is essential for deploying our model into a production environment or for further analysis.\n",
        "\n",
        "### How We Save the Model and Tokenizer\n",
        "\n",
        "- **Model Saving**: We save the model's weights and configuration. This includes all the parameters that have been learned during training.\n",
        "- **Tokenizer Saving**: The tokenizer is also saved, including its vocabulary and any special tokens specific to BERT.\n",
        "- Both the model and tokenizer are saved in the `Saved_model` directory. This ensures that all related files are organized and easily accessible."
      ]
    },
    {
      "cell_type": "code",
      "execution_count": 16,
      "metadata": {
        "colab": {
          "base_uri": "https://localhost:8080/"
        },
        "id": "qrKu1Wwuy31K",
        "outputId": "a9128c66-6f89-4e10-ba5b-b6fdd5d11e43"
      },
      "outputs": [
        {
          "data": {
            "text/plain": [
              "('Saved_model/tokenizer_config.json',\n",
              " 'Saved_model/special_tokens_map.json',\n",
              " 'Saved_model/vocab.txt',\n",
              " 'Saved_model/added_tokens.json')"
            ]
          },
          "execution_count": 16,
          "metadata": {},
          "output_type": "execute_result"
        }
      ],
      "source": [
        "# Save the tokenizer and model in the same directory\n",
        "output_dir = \"Saved_model\"\n",
        "# Save model's state dictionary and configuration\n",
        "model.save_pretrained(output_dir)\n",
        "# Save tokenizer's configuration and vocabulary\n",
        "tokenizer.save_pretrained(output_dir)"
      ]
    },
    {
      "cell_type": "markdown",
      "metadata": {
        "id": "Iflu10bfoGei"
      },
      "source": [
        "# Loading Process\n",
        "\n",
        "After saving our trained model and tokenizer, we need to be able to load them back into our working environment. This allows us to continue working with our model, whether for further training, evaluation, or making new predictions.\n",
        "\n",
        "### Steps for Loading the Model and Tokenizer\n",
        "\n",
        "- **Loading the Tokenizer**: We load the BERT tokenizer from the directory where we saved it. This ensures we have the exact tokenization scheme that was used during training.\n",
        "- **Loading the Model**: Similarly, we load the BERT model for sequence classification from the same directory. This model contains the weights and configuration from our training process."
      ]
    },
    {
      "cell_type": "code",
      "execution_count": 17,
      "metadata": {
        "colab": {
          "base_uri": "https://localhost:8080/"
        },
        "id": "ScuoVVJ9y31K",
        "outputId": "1580d326-c52d-4992-ec1a-4c0783df29f2"
      },
      "outputs": [
        {
          "name": "stdout",
          "output_type": "stream",
          "text": [
            "cuda\n"
          ]
        }
      ],
      "source": [
        "\n",
        "# Load the tokenizer and model from the saved directory\n",
        "\n",
        "# using GPU or CPU\n",
        "device = torch.device('cuda') if torch.cuda.is_available() else torch.device('cpu')\n",
        "\n",
        "# Load the tokenizer and model from the saved directory\n",
        "model_name = \"/content/Saved_model\"\n",
        "\n",
        "# Loading the BERT model for sequence classification from the saved directory.\n",
        "Bert_Tokenizer = BertTokenizer.from_pretrained(model_name)\n",
        "Bert_Model = BertForSequenceClassification.from_pretrained(\n",
        "    model_name).to(device)\n",
        "\n",
        "# Ensuring that the model is assigned to the correct device.\n",
        "Bert_Model = Bert_Model.to(device)\n",
        "print(device)"
      ]
    },
    {
      "cell_type": "markdown",
      "metadata": {
        "id": "f7M9GJBGoGei"
      },
      "source": [
        "# Inference and Prediction\n",
        "## Prediction Function\n",
        "\n",
        "In this section, we focus on using our trained BERT model to make predictions on new, unseen data. This process, known as inference, is crucial for evaluating how our model will perform in real-world scenarios.\n",
        "\n",
        "### The Prediction Function Explained\n",
        "\n",
        "- **Function Definition**: We define a function `predict_user_input` that takes in a text input, the model, tokenizer, and device (GPU or CPU) to perform the prediction.\n",
        "- **Tokenization**: The input text is tokenized in the same way as our training data, ensuring consistency in data format.\n",
        "- **Data Preparation**: We wrap the tokenized inputs into a `TensorDataset` and create a `DataLoader` for it. This allows us to process the input in a format that our model expects.\n",
        "- **Model Evaluation**: We set the model to evaluation mode and disable gradient calculations for efficiency.\n",
        "- **Prediction**: The model predicts the probabilities of each label for the input text. These probabilities are then converted to binary labels using a threshold of 0.5.\n",
        "- **Result Presentation**: The predictions are mapped to their corresponding label names, resulting in a dictionary that shows the likelihood of each label being applicable to the input text."
      ]
    },
    {
      "cell_type": "code",
      "execution_count": 18,
      "metadata": {
        "colab": {
          "base_uri": "https://localhost:8080/"
        },
        "id": "D-CxAvrAy31K",
        "outputId": "5f5a2885-24eb-4d45-af48-f6b986f8d3ae"
      },
      "outputs": [
        {
          "data": {
            "text/plain": [
              "{'toxic': 1,\n",
              " 'severe_toxic': 0,\n",
              " 'obscene': 0,\n",
              " 'threat': 0,\n",
              " 'insult': 1,\n",
              " 'identity_hate': 0}"
            ]
          },
          "execution_count": 18,
          "metadata": {},
          "output_type": "execute_result"
        }
      ],
      "source": [
        "def predict_user_input(input_text, model=Bert_Model, tokenizer=Bert_Tokenizer, device=device):\n",
        "    # Wrap the input text in a list. The tokenizer expects a list of texts.\n",
        "    user_input = [input_text]\n",
        "\n",
        "    # Tokenize the user input. This includes converting the text to tokens,\n",
        "    # truncating it to the maximum length the model can handle, and padding shorter texts.\n",
        "    # 'return_tensors=\"pt\"' tells the tokenizer to return PyTorch tensors.\n",
        "    user_encodings = tokenizer(\n",
        "        user_input, truncation=True, padding=True, return_tensors=\"pt\")\n",
        "\n",
        "    # TensorDataset wraps tensors into a dataset and is used here to create a compatible format for DataLoader.\n",
        "    user_dataset = TensorDataset(\n",
        "        user_encodings['input_ids'], user_encodings['attention_mask'])\n",
        "\n",
        "    # DataLoader is used to create an iterable over the dataset with a specified batch size.\n",
        "    # Since we are predicting for a single input, batch_size is set to 1.\n",
        "    user_loader = DataLoader(user_dataset, batch_size=1, shuffle=False)\n",
        "\n",
        "    # Set the model to evaluation mode.\n",
        "    model.eval()\n",
        "\n",
        "    with torch.no_grad():\n",
        "        for batch in user_loader:\n",
        "            # GPUT or CPU\n",
        "            input_ids, attention_mask = [t.to(device) for t in batch]\n",
        "\n",
        "            # Get model's predictions for the batch.\n",
        "            outputs = model(input_ids, attention_mask=attention_mask)\n",
        "            logits = outputs.logits\n",
        "\n",
        "            # Apply sigmoid function to the output logits to obtain probabilities.\n",
        "            predictions = torch.sigmoid(logits)\n",
        "\n",
        "    # Convert the predictions to binary labels using a threshold (0.5)\n",
        "    predicted_labels = (predictions.cpu().numpy() > 0.5).astype(int)\n",
        "\n",
        "    # Define a list of label names corresponding to the outputs.\n",
        "    labels_list = ['toxic', 'severe_toxic', 'obscene',\n",
        "                   'threat', 'insult', 'identity_hate']\n",
        "\n",
        "        # Create a dictionary mapping label names to their predicted values.\n",
        "    result = dict(zip(labels_list, predicted_labels[0]))\n",
        "    return result\n",
        "\n",
        "# examples\n",
        "text = 'Are you insane!'\n",
        "predict_user_input(input_text=text)"
      ]
    },
    {
      "cell_type": "code",
      "execution_count": 19,
      "metadata": {
        "colab": {
          "base_uri": "https://localhost:8080/"
        },
        "id": "eSTK38Ghy31L",
        "outputId": "5b0e6f78-3f8d-46c5-e772-1a0145aef0a5"
      },
      "outputs": [
        {
          "data": {
            "text/plain": [
              "{'toxic': 1,\n",
              " 'severe_toxic': 0,\n",
              " 'obscene': 1,\n",
              " 'threat': 1,\n",
              " 'insult': 1,\n",
              " 'identity_hate': 1}"
            ]
          },
          "execution_count": 19,
          "metadata": {},
          "output_type": "execute_result"
        }
      ],
      "source": [
        "predict_user_input(input_text='I will kill you nigga')"
      ]
    },
    {
      "cell_type": "markdown",
      "metadata": {
        "id": "R57iRiCyoGej"
      },
      "source": [
        "# Reading and Filtering Test Data\n",
        "\n",
        "The final step in preparing our dataset involves reading the test data and ensuring it's in the correct format for model evaluation.\n",
        "\n",
        "## Reading Test Data\n",
        "First, we read our test data and its corresponding labels from CSV files. This data is crucial for objectively assessing the performance of our trained model.\n",
        "\n",
        "### Filtering the Test Labels\n",
        "Not all rows in the test data might be relevant or properly labeled. We specifically filter out rows where the 'toxic' column has a value of `-1`, which likely indicates missing or irrelevant data. This step ensures that we only consider rows with proper labels for evaluation.\n",
        "\n",
        "### Matching Test Data and Labels\n",
        "We then align the test data (`test_texts`) with the filtered labels (`test_labels`). This alignment is crucial to maintain the correspondence between the input texts and their respective labels, a vital aspect for accurate model evaluation."
      ]
    },
    {
      "cell_type": "code",
      "execution_count": 20,
      "metadata": {
        "id": "YHPnK32ioMZ0"
      },
      "outputs": [],
      "source": [
        "# Reading Test data from the csv files\n",
        "test_data = pd.read_csv(\"/content/my_data/test.csv\")\n",
        "test_labels = pd.read_csv(\"/content/my_data/test_labels.csv\")\n",
        "\n",
        "# Filtering the test labels   to exclude rows where the 'toxic' column has a value of -1.\n",
        "# The value -1 in this context likely indicates missing or irrelevant data\n",
        "test_labels = test_labels[test_labels['toxic'] != -1]\n",
        "\n",
        "# Selecting the rows in 'test_data' that have corresponding labels in 'test_labels'.\n",
        "test_texts = test_data[test_data['id'].isin(test_labels['id'])]"
      ]
    },
    {
      "cell_type": "markdown",
      "metadata": {
        "id": "TtSl9IKXoGek"
      },
      "source": [
        "# Preparing Test Data for BERT\n",
        "After filtering and aligning our test data, the next step is to prepare it for evaluation using the BERT model. This involves tokenizing and encoding the data in a format that BERT can understand and process.\n",
        "\n",
        "## Tokenization and Encoding Process\n",
        "The tokenization and encoding are handled by the `tokenize_and_encode` function, which performs several critical steps:\n",
        "\n",
        "1. **Tokenization with BertTokenizer**:\n",
        "   - The `BertTokenizer` instance converts the raw text data into tokens. Tokenization is the process of breaking down text into smaller pieces that the model can work with.\n",
        "\n",
        "2. **Processing Text Data**:\n",
        "   - We process the text data (`comment_text`) from our `test_texts` DataFrame. This text is what we need our model to evaluate.\n",
        "\n",
        "3. **Handling Labels**:\n",
        "   - The labels associated with our test data are also prepared. We use `iloc[:,1:].values` to select all rows but only columns with labels, converting them into a NumPy array for easy handling."
      ]
    },
    {
      "cell_type": "code",
      "execution_count": 21,
      "metadata": {
        "id": "LgnbyvuGtkSp"
      },
      "outputs": [],
      "source": [
        "# Tokenize and encode the test dataset using the BERT tokenizer.\n",
        "# This is a crucial step to prepare the textual data for processing by the BERT model.\n",
        "test_input_ids, test_attention_masks, test_labels = tokenize_and_encode(\n",
        "    tokenizer,\n",
        "    test_texts['comment_text'],\n",
        "    test_labels.iloc[:,1:].values\n",
        ")\n",
        "\n",
        "# Tokenizing and encoding the test data using BERT tokenizer.\n",
        "\n",
        "# 'tokenize_and_encode' is used with:\n",
        "# 1. tokenizer: BertTokenizer instance for text conversion.\n",
        "# 2. test_texts['comment_text']: Text data from the test dataset.\n",
        "# 3. test_labels.iloc[:,1:].values: Corresponding labels for the test data as a NumPy array."
      ]
    },
    {
      "cell_type": "markdown",
      "metadata": {
        "id": "_igf2e7GoGek"
      },
      "source": [
        "# Preparing Test Data for Model Evaluation\n",
        "Once the test dataset has been tokenized and encoded, it's crucial to set it up in a way that's compatible with our BERT model for evaluation. This involves creating a `TensorDataset` and a `DataLoader`.\n",
        "\n",
        "## Creating TensorDataset\n",
        "A `TensorDataset` wraps the tokenized and encoded data (`test_input_ids`, `test_attention_masks`, and `test_labels`) into a single dataset. This format is particularly useful for PyTorch models, as it allows for easy batching and access during the evaluation process.\n",
        "\n",
        "## DataLoader Setup\n",
        "The `DataLoader` is responsible for feeding this data to our model during evaluation. Key points in its setup include:\n",
        "\n",
        "- **Batch Size**: We choose a batch size of 32, meaning the model will process 32 examples at a time. This number is a balance between memory usage and performance.\n",
        "- **Shuffling**: For the test set, we set `shuffle=False` to maintain the order of the data. This is important for evaluation purposes, as we want to compare our predictions directly with the actual labels."
      ]
    },
    {
      "cell_type": "code",
      "execution_count": 22,
      "metadata": {
        "id": "9Z867mbkv9IL"
      },
      "outputs": [],
      "source": [
        "# Prepare the test data for the model.\n",
        "# This combines the test text, attention masks, and labels into a single dataset.\n",
        "test_dataset = TensorDataset(test_input_ids, test_attention_masks, test_labels)\n",
        "\n",
        "# Set up for loading the test data.\n",
        "# DataLoader helps to go through the test data in small groups (batches) of 32 at a time,\n",
        "# without mixing up the order of the data.\n",
        "test_loader = DataLoader(test_dataset, batch_size=32, shuffle=False)"
      ]
    },
    {
      "cell_type": "markdown",
      "metadata": {
        "id": "lDC4gEjBoGel"
      },
      "source": [
        "# Model Evaluation\n",
        "\n",
        "After training and preparing our model, it's essential to evaluate its performance to understand how well it has learned to predict the desired outcomes.\n",
        "\n",
        "## Evaluating the Trained Model\n",
        "We use the `evaluate_model` function to assess the model's effectiveness. This function will put the model through its paces with the test data and provide us with key performance metrics.\n",
        "\n",
        "### Key Metrics for Evaluation\n",
        "The function evaluates the model on various metrics, such as:\n",
        "\n",
        "- **Accuracy**: Measures the proportion of correct predictions.\n",
        "- **Precision and Recall**: Evaluate the model's ability to correctly identify positive instances and its sensitivity to detecting positive labels, respectively.\n",
        "\n",
        "These metrics give us a quantifiable understanding of how well our model performs and are crucial for gauging its effectiveness in real-world applications."
      ]
    },
    {
      "cell_type": "code",
      "execution_count": 23,
      "metadata": {
        "colab": {
          "base_uri": "https://localhost:8080/"
        },
        "id": "E5bYAdpIx06o",
        "outputId": "8014584a-7eee-4edc-b629-a07a53bc6823"
      },
      "outputs": [
        {
          "name": "stdout",
          "output_type": "stream",
          "text": [
            "Trained Model Stats =\n",
            "Accuracy: 0.7483\n",
            "Precision: 0.3987\n",
            "Recall: 0.8829\n",
            "F1 Score: 0.5493\n"
          ]
        }
      ],
      "source": [
        "print(\"Trained Model Stats =\")\n",
        "# Use the 'evaluate_model' function to check how well the trained model is doing.\n",
        "# It will test the model with the test data and show results like accuracy and other scores.\n",
        "evaluate_model(model, test_loader, device)\n",
        "\n",
        "# print(\"Loaded Model Stats =\")\n",
        "# evaluate_model(Bert_Model, test_loader, device)"
      ]
    }
  ],
  "metadata": {
    "accelerator": "GPU",
    "colab": {
      "gpuType": "T4",
      "provenance": []
    },
    "kernelspec": {
      "display_name": "Python 3",
      "name": "python3"
    },
    "language_info": {
      "codemirror_mode": {
        "name": "ipython",
        "version": 3
      },
      "file_extension": ".py",
      "mimetype": "text/x-python",
      "name": "python",
      "nbconvert_exporter": "python",
      "pygments_lexer": "ipython3",
      "version": "3.11.3"
    }
  },
  "nbformat": 4,
  "nbformat_minor": 0
}
